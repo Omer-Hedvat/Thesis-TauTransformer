{
 "cells": [
  {
   "cell_type": "markdown",
   "metadata": {},
   "source": [
    "1. regular classification - done\n",
    "2. random columns classification - done\n",
    "3. classification using PCA feature reduction - done\n",
    "4. for dist in (wesserstain, hellinger, JM):\n",
    "    1. ranked columns classification (for ranking, use 1st eigen vector from the diffusion maps)        \n",
    "    2. ranked + K-means classification (for ranking, use 1st eigen vector from the diffusion maps)\n",
    "    3. K-mediods classification\n",
    "    4. K-means + pick feature by distance from axis (0, 0)\n",
    "### we want to deploy over all distance functions!\n",
    "    \n",
    "* ask Neta if the ranking we wrote is correct\n",
    "* Chen will write the function regarding the ranking values"
   ]
  },
  {
   "cell_type": "markdown",
   "metadata": {},
   "source": [
    "classification\n",
    "1. add cross validation k-folds (5-10 folds)\n",
    "2. ranked + K-means: rank by mean row of the flatten matrix. (the bigger the better)"
   ]
  },
  {
   "cell_type": "code",
   "execution_count": 4,
   "metadata": {},
   "outputs": [
    {
     "name": "stdout",
     "output_type": "stream",
     "text": [
      "ERROR! Session/line number was not unique in database. History logging moved to new session 366\n"
     ]
    }
   ],
   "source": [
    "from math import exp, sqrt, log\n",
    "import numpy as np\n",
    "import pandas as pd\n",
    "import seaborn as sns\n",
    "from sklearn import preprocessing\n",
    "\n",
    "from dictances import jensen_shannon\n",
    "import matplotlib.pyplot as plt\n",
    "from pydiffmap import diffusion_map as dm\n",
    "from pydiffmap.visualization import embedding_plot, data_plot\n",
    "\n",
    "from ref.diffusion_maps import diffusion_mapping\n",
    "from ref.Shir import utils as shir_utils\n",
    "from utils import min_max_scaler, calc_mean_std, flatten, norm_by_dist_type, calculate_distance\n",
    "from main import execute_distance_func, calc_dist, export_heatmaps, k_medoids_features, return_best_features_by_kmeans\n",
    "from sklearn.ensemble import RandomForestClassifier\n",
    "from sklearn.multiclass import OneVsRestClassifier\n",
    "from sklearn.model_selection import train_test_split, cross_val_score, GroupKFold, KFold, StratifiedKFold\n",
    "from sklearn import metrics\n",
    "from sklearn.decomposition import PCA\n",
    "from sklearn.preprocessing import StandardScaler"
   ]
  },
  {
   "cell_type": "code",
   "execution_count": 5,
   "metadata": {},
   "outputs": [],
   "source": [
    "df = pd.read_csv('data/glass.csv')\n",
    "features = df.columns.drop('label')\n",
    "label_column = 'label'\n",
    "k = 4"
   ]
  },
  {
   "cell_type": "code",
   "execution_count": 6,
   "metadata": {},
   "outputs": [],
   "source": [
    "def predict(df, features, label_column, X_train, X_test, y_train, y_test):\n",
    "    kf = StratifiedKFold(n_splits=5, shuffle=True)\n",
    "    clf = RandomForestClassifier(random_state=1)\n",
    "    multi_target_forest = OneVsRestClassifier(clf, n_jobs=-1)\n",
    "    train_acc = []\n",
    "    \n",
    "    for train_index, test_index in kf.split(X_train, y_train):\n",
    "        model = multi_target_forest.fit(X_train.iloc[train_index], y_train.iloc[train_index])\n",
    "        train_preds = model.predict(X_train.iloc[test_index])\n",
    "        \n",
    "        train_acc.append(metrics.accuracy_score(y_train.iloc[test_index], train_preds))        \n",
    "    \n",
    "    model = multi_target_forest.fit(X_train, y_train)\n",
    "    preds = model.predict(X_test)\n",
    "    print(metrics.classification_report(y_test, preds, digits=3))\n",
    "    return train_acc"
   ]
  },
  {
   "cell_type": "markdown",
   "metadata": {},
   "source": [
    "## Regular classification"
   ]
  },
  {
   "cell_type": "code",
   "execution_count": 41,
   "metadata": {},
   "outputs": [
    {
     "name": "stdout",
     "output_type": "stream",
     "text": [
      "              precision    recall  f1-score   support\n",
      "\n",
      "           1      0.769     0.909     0.833        22\n",
      "           2      0.792     0.760     0.776        25\n",
      "           3      1.000     0.500     0.667         4\n",
      "           5      1.000     0.500     0.667         6\n",
      "           6      0.800     1.000     0.889         4\n",
      "           7      0.909     1.000     0.952        10\n",
      "\n",
      "    accuracy                          0.817        71\n",
      "   macro avg      0.878     0.778     0.797        71\n",
      "weighted avg      0.831     0.817     0.809        71\n",
      "\n",
      "train_avg_score=0.7411330049261083\n"
     ]
    }
   ],
   "source": [
    "X_train, X_test, y_train, y_test = train_test_split(df[features], df[label_column], test_size=0.33, random_state=42)\n",
    "train_acc = predict(df, features, label_column, X_train, X_test, y_train, y_test)\n",
    "train_avg_score = sum(train_acc)/len(train_acc)\n",
    "print(f'{train_avg_score=}')"
   ]
  },
  {
   "cell_type": "markdown",
   "metadata": {},
   "source": [
    "## Random columns"
   ]
  },
  {
   "cell_type": "code",
   "execution_count": 40,
   "metadata": {},
   "outputs": [
    {
     "name": "stdout",
     "output_type": "stream",
     "text": [
      "              precision    recall  f1-score   support\n",
      "\n",
      "           1      0.680     0.773     0.723        22\n",
      "           2      0.682     0.600     0.638        25\n",
      "           3      1.000     0.250     0.400         4\n",
      "           5      0.800     0.667     0.727         6\n",
      "           6      0.400     0.500     0.444         4\n",
      "           7      0.769     1.000     0.870        10\n",
      "\n",
      "    accuracy                          0.690        71\n",
      "   macro avg      0.722     0.632     0.634        71\n",
      "weighted avg      0.706     0.690     0.680        71\n",
      "\n",
      "train_avg_score=0.67807881773399\n"
     ]
    }
   ],
   "source": [
    "sampled_df = df[features].sample(n=k, axis='columns')\n",
    "new_features = sampled_df.columns\n",
    "sampled_df[label_column] = df[label_column]\n",
    "X_train, X_test, y_train, y_test = train_test_split(sampled_df[new_features], sampled_df[label_column], test_size=0.33, random_state=42)\n",
    "\n",
    "train_acc = predict(sampled_df, new_features, label_column, X_train, X_test, y_train, y_test)\n",
    "train_avg_score = sum(train_acc)/len(train_acc)\n",
    "print(f'{train_avg_score=}')"
   ]
  },
  {
   "cell_type": "markdown",
   "metadata": {},
   "source": [
    "## PCA Classification"
   ]
  },
  {
   "cell_type": "code",
   "execution_count": 42,
   "metadata": {},
   "outputs": [],
   "source": [
    "# Norm\n",
    "scaler = StandardScaler()\n",
    "X_train_norm = scaler.fit_transform(X_train)\n",
    "X_test_norm = scaler.transform(X_test)\n",
    "sample_data = X_train_norm\n",
    "\n",
    "#PCA\n",
    "pca = PCA(n_components=k)\n",
    "pca.fit(X_train_norm)\n",
    "X_train_pca = pca.transform(X_train_norm)\n",
    "X_test_pca = pca.transform(X_test_norm)\n",
    "y_train_arr = y_train.to_numpy()\n",
    "y_test_arr = y_test.to_numpy()\n",
    "\n"
   ]
  },
  {
   "cell_type": "code",
   "execution_count": 43,
   "metadata": {},
   "outputs": [],
   "source": [
    "def predict_np(df, features, label_column, X_train, X_test, y_train, y_test):\n",
    "    kf = StratifiedKFold(n_splits=5, shuffle=True)\n",
    "    clf = RandomForestClassifier(random_state=1)\n",
    "    multi_target_forest = OneVsRestClassifier(clf, n_jobs=-1)\n",
    "    train_acc = []\n",
    "    \n",
    "    for train_index, test_index in kf.split(X_train, y_train):\n",
    "        model = multi_target_forest.fit(X_train[train_index], y_train[train_index])\n",
    "        train_preds = model.predict(X_train[test_index])\n",
    "        \n",
    "        train_acc.append(metrics.accuracy_score(y_train[test_index], train_preds))        \n",
    "    \n",
    "    model = multi_target_forest.fit(X_train, y_train)\n",
    "    preds = model.predict(X_test)\n",
    "    print(metrics.classification_report(y_test, preds, digits=3))\n",
    "    return train_acc"
   ]
  },
  {
   "cell_type": "code",
   "execution_count": 44,
   "metadata": {},
   "outputs": [
    {
     "name": "stdout",
     "output_type": "stream",
     "text": [
      "              precision    recall  f1-score   support\n",
      "\n",
      "           1      0.652     0.682     0.667        22\n",
      "           2      0.621     0.720     0.667        25\n",
      "           3      0.500     0.250     0.333         4\n",
      "           5      0.750     0.500     0.600         6\n",
      "           6      0.667     0.500     0.571         4\n",
      "           7      0.900     0.900     0.900        10\n",
      "\n",
      "    accuracy                          0.676        71\n",
      "   macro avg      0.682     0.592     0.623        71\n",
      "weighted avg      0.677     0.676     0.670        71\n",
      "\n",
      "train_avg_score=0.6844827586206896\n"
     ]
    }
   ],
   "source": [
    "train_acc = predict_np(sampled_df, new_features, label_column, X_train_pca, X_test_pca, y_train_arr, y_test_arr)\n",
    "train_avg_score = sum(train_acc)/len(train_acc)\n",
    "print(f'{train_avg_score=}')"
   ]
  },
  {
   "cell_type": "markdown",
   "metadata": {},
   "source": [
    "## Wasserstein Distance"
   ]
  },
  {
   "cell_type": "markdown",
   "metadata": {},
   "source": [
    "### ranked columns classification (for ranking, use 1st eigen vector from the diffusion maps)"
   ]
  },
  {
   "cell_type": "code",
   "execution_count": 7,
   "metadata": {
    "scrolled": true
   },
   "outputs": [],
   "source": [
    "df_norm = min_max_scaler(df, features)\n",
    "X_train, X_test, y_train, y_test = train_test_split(df_norm[features], df_norm[label_column], test_size=0.33, random_state=42)\n",
    "df_dists_wasser, dist_dict_wasser = calc_dist('wasserstein_dist', X_train, y_train)"
   ]
  },
  {
   "cell_type": "code",
   "execution_count": 10,
   "metadata": {},
   "outputs": [],
   "source": [
    "eps_type='maxmin'#mean' #or maxmin\n",
    "alpha=1\n",
    "vec_wasser, egs_wasser, coordinates_wasser, dataList_wasser, epsilon_wasser, ranking = (\n",
    "    diffusion_mapping(df_dists_wasser, alpha, eps_type, 8, 1, dim=2)\n",
    ")\n",
    "flat_ranking = [item for sublist in ranking for item in sublist]\n",
    "ranking_idx = np.argsort(flat_ranking)\n"
   ]
  },
  {
   "cell_type": "code",
   "execution_count": 55,
   "metadata": {},
   "outputs": [
    {
     "data": {
      "text/plain": [
       "array([0, 3, 7, 2], dtype=int64)"
      ]
     },
     "execution_count": 55,
     "metadata": {},
     "output_type": "execute_result"
    }
   ],
   "source": [
    "ranking_idx[-k:]"
   ]
  },
  {
   "cell_type": "code",
   "execution_count": 47,
   "metadata": {},
   "outputs": [
    {
     "name": "stdout",
     "output_type": "stream",
     "text": [
      "              precision    recall  f1-score   support\n",
      "\n",
      "           1      0.731     0.864     0.792        22\n",
      "           2      0.708     0.680     0.694        25\n",
      "           3      0.000     0.000     0.000         4\n",
      "           5      0.600     0.500     0.545         6\n",
      "           6      0.400     0.500     0.444         4\n",
      "           7      1.000     1.000     1.000        10\n",
      "\n",
      "    accuracy                          0.718        71\n",
      "   macro avg      0.573     0.591     0.579        71\n",
      "weighted avg      0.690     0.718     0.702        71\n",
      "\n"
     ]
    },
    {
     "data": {
      "text/plain": [
       "[0.8275862068965517,\n",
       " 0.6896551724137931,\n",
       " 0.6896551724137931,\n",
       " 0.8571428571428571,\n",
       " 0.7857142857142857]"
      ]
     },
     "execution_count": 47,
     "metadata": {},
     "output_type": "execute_result"
    }
   ],
   "source": [
    "predict(df, features, label_column, X_train.iloc[:, ranking_idx[-k:]], X_test.iloc[:, ranking_idx[-k:]], y_train, y_test)"
   ]
  },
  {
   "cell_type": "markdown",
   "metadata": {},
   "source": [
    "### ranked + K-means classification (for ranking, use 1st eigen vector from the diffusion maps)"
   ]
  },
  {
   "cell_type": "code",
   "execution_count": 59,
   "metadata": {},
   "outputs": [
    {
     "name": "stdout",
     "output_type": "stream",
     "text": [
      "              precision    recall  f1-score   support\n",
      "\n",
      "           1      0.679     0.864     0.760        22\n",
      "           2      0.708     0.680     0.694        25\n",
      "           3      0.500     0.250     0.333         4\n",
      "           5      1.000     0.500     0.667         6\n",
      "           6      0.333     0.250     0.286         4\n",
      "           7      0.909     1.000     0.952        10\n",
      "\n",
      "    accuracy                          0.718        71\n",
      "   macro avg      0.688     0.591     0.615        71\n",
      "weighted avg      0.719     0.718     0.705        71\n",
      "\n"
     ]
    },
    {
     "data": {
      "text/plain": [
       "[0.7241379310344828,\n",
       " 0.6551724137931034,\n",
       " 0.6896551724137931,\n",
       " 0.6071428571428571,\n",
       " 0.7142857142857143]"
      ]
     },
     "execution_count": 59,
     "metadata": {},
     "output_type": "execute_result"
    }
   ],
   "source": [
    "best_features, labels, features_rank = return_best_features_by_kmeans(coordinates_wasser, k)\n",
    "predict(df, features, label_column, X_train.iloc[:, best_features], X_test.iloc[:, best_features], y_train, y_test)"
   ]
  },
  {
   "cell_type": "markdown",
   "metadata": {},
   "source": [
    "### K-mediods classification"
   ]
  },
  {
   "cell_type": "code",
   "execution_count": null,
   "metadata": {},
   "outputs": [],
   "source": [
    "k_features = k_medoids_features(coordinates_wasser, k)\n",
    "predict(df, features, label_column, X_train.iloc[:, k_features], X_test.iloc[:, k_features], y_train, y_test)"
   ]
  },
  {
   "cell_type": "markdown",
   "metadata": {},
   "source": [
    "## JM distance"
   ]
  }
 ],
 "metadata": {
  "kernelspec": {
   "display_name": "Python 3",
   "language": "python",
   "name": "python3"
  },
  "language_info": {
   "codemirror_mode": {
    "name": "ipython",
    "version": 3
   },
   "file_extension": ".py",
   "mimetype": "text/x-python",
   "name": "python",
   "nbconvert_exporter": "python",
   "pygments_lexer": "ipython3",
   "version": "3.8.5"
  }
 },
 "nbformat": 4,
 "nbformat_minor": 4
}