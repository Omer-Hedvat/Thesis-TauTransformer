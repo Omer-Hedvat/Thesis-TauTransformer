{
 "cells": [
  {
   "cell_type": "markdown",
   "metadata": {},
   "source": [
    "1. regular classification\n",
    "2. random columns classification\n",
    "3. classification using PCA feature reduction\n",
    "\n",
    "3. for dist in (wesserstain, hellinger, JM):\n",
    "    1. ranked columns classification (for ranking, use 1st eigen vector from the diffusion maps)\n",
    "    2. ranked + K-means classification (for ranking, use 1st eigen vector from the diffusion maps)\n",
    "    3. K-mediods classification\n",
    "    4. K-means + pick feature by distance from axis (0, 0)"
   ]
  },
  {
   "cell_type": "markdown",
   "metadata": {},
   "source": [
    "classification\n",
    "1. add cross validation k-folds (5-10 folds)\n",
    "2. ranked + K-means: rank by mean row of the flatten matrix. (the bigger the better)"
   ]
  },
  {
   "cell_type": "code",
   "execution_count": 40,
   "metadata": {},
   "outputs": [],
   "source": [
    "from math import exp, sqrt, log\n",
    "import numpy as np\n",
    "import pandas as pd\n",
    "import seaborn as sns\n",
    "from sklearn import preprocessing\n",
    "\n",
    "from dictances import jensen_shannon\n",
    "import matplotlib.pyplot as plt\n",
    "from pydiffmap import diffusion_map as dm\n",
    "from pydiffmap.visualization import embedding_plot, data_plot\n",
    "\n",
    "from ref.Diffusion_Maps import diffusionMapping\n",
    "from ref.Shir import utils as shir_utils\n",
    "from utils import min_max_scaler, calc_mean_std, flatten, norm_by_dist_type, calculate_distance\n",
    "from main import execute_distance_func, calc_dist, export_heatmaps, k_medoids_features, return_best_features_by_kmeans\n",
    "from sklearn.ensemble import RandomForestClassifier\n",
    "from sklearn.multiclass import OneVsRestClassifier\n",
    "from sklearn.model_selection import train_test_split, cross_val_score, GroupKFold, KFold, StratifiedKFold\n",
    "from sklearn import metrics"
   ]
  },
  {
   "cell_type": "code",
   "execution_count": 13,
   "metadata": {},
   "outputs": [],
   "source": [
    "df = pd.read_csv('data/glass.csv')\n",
    "features = df.columns.drop('label')\n",
    "label_column = 'label'"
   ]
  },
  {
   "cell_type": "code",
   "execution_count": 61,
   "metadata": {},
   "outputs": [],
   "source": [
    "def predict(df, features, label_column):\n",
    "    kf = StratifiedKFold(n_splits=5, shuffle=True)\n",
    "    clf = RandomForestClassifier(random_state=1)\n",
    "    multi_target_forest = OneVsRestClassifier(clf, n_jobs=-1)\n",
    "    train_acc = []\n",
    "    X_train, X_test, y_train, y_test = train_test_split(df[features], df[label_column], test_size=0.33, random_state=42)\n",
    "    for train_index, test_index in kf.split(X_train, y_train):\n",
    "        model = multi_target_forest.fit(X_train.iloc[train_index], y_train.iloc[train_index])\n",
    "        train_preds = model.predict(X_train.iloc[test_index])\n",
    "        \n",
    "        train_acc.append(metrics.accuracy_score(y_train.iloc[test_index], train_preds))        \n",
    "    \n",
    "    model = multi_target_forest.fit(X_train, y_train)\n",
    "    preds = model.predict(X_test)\n",
    "    print(metrics.classification_report(y_test, preds, digits=3))\n",
    "    return train_acc"
   ]
  },
  {
   "cell_type": "code",
   "execution_count": 63,
   "metadata": {},
   "outputs": [
    {
     "name": "stdout",
     "output_type": "stream",
     "text": [
      "              precision    recall  f1-score   support\n",
      "\n",
      "           1      0.769     0.909     0.833        22\n",
      "           2      0.792     0.760     0.776        25\n",
      "           3      1.000     0.500     0.667         4\n",
      "           5      1.000     0.500     0.667         6\n",
      "           6      0.800     1.000     0.889         4\n",
      "           7      0.909     1.000     0.952        10\n",
      "\n",
      "    accuracy                          0.817        71\n",
      "   macro avg      0.878     0.778     0.797        71\n",
      "weighted avg      0.831     0.817     0.809        71\n",
      "\n",
      "train_avg_score=0.7694581280788176\n"
     ]
    }
   ],
   "source": [
    "train_acc = predict(df, features, label_column)\n",
    "train_avg_score = sum(train_acc)/len(train_acc)\n",
    "print(f'{train_avg_score=}')"
   ]
  },
  {
   "cell_type": "markdown",
   "metadata": {},
   "source": [
    "# ***Random columns"
   ]
  },
  {
   "cell_type": "code",
   "execution_count": 64,
   "metadata": {},
   "outputs": [
    {
     "name": "stdout",
     "output_type": "stream",
     "text": [
      "              precision    recall  f1-score   support\n",
      "\n",
      "           1      0.682     0.682     0.682        22\n",
      "           2      0.548     0.680     0.607        25\n",
      "           3      0.000     0.000     0.000         4\n",
      "           5      0.500     0.167     0.250         6\n",
      "           6      0.500     0.500     0.500         4\n",
      "           7      0.727     0.800     0.762        10\n",
      "\n",
      "    accuracy                          0.606        71\n",
      "   macro avg      0.493     0.471     0.467        71\n",
      "weighted avg      0.577     0.606     0.582        71\n",
      "\n",
      "train_avg_score=0.6495073891625616\n"
     ]
    }
   ],
   "source": [
    "sampled_df = df[features].sample(n=4, axis='columns')\n",
    "new_features = sampled_df.columns\n",
    "sampled_df[label_column] = df[label_column]\n",
    "\n",
    "train_acc = predict(sampled_df, new_features, label_column)\n",
    "train_avg_score = sum(train_acc)/len(train_acc)\n",
    "print(f'{train_avg_score=}')"
   ]
  }
 ],
 "metadata": {
  "kernelspec": {
   "display_name": "Python 3",
   "language": "python",
   "name": "python3"
  },
  "language_info": {
   "codemirror_mode": {
    "name": "ipython",
    "version": 3
   },
   "file_extension": ".py",
   "mimetype": "text/x-python",
   "name": "python",
   "nbconvert_exporter": "python",
   "pygments_lexer": "ipython3",
   "version": "3.8.5"
  }
 },
 "nbformat": 4,
 "nbformat_minor": 4
}
