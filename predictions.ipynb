{
 "cells": [
  {
   "cell_type": "markdown",
   "metadata": {},
   "source": [
    "1. regular classification - done\n",
    "2. random columns classification - done\n",
    "3. classification using PCA feature reduction - done\n",
    "4. for dist in (wesserstain, hellinger, JM):\n",
    "    1. ranked columns classification (for ranking, use 1st eigen vector from the diffusion maps)\n",
    "    2. ranked + K-means classification (for ranking, use 1st eigen vector from the diffusion maps)\n",
    "    3. K-mediods classification\n",
    "    4. K-means + pick feature by distance from axis (0, 0)\n",
    "    "
   ]
  },
  {
   "cell_type": "markdown",
   "metadata": {},
   "source": [
    "classification\n",
    "1. add cross validation k-folds (5-10 folds)\n",
    "2. ranked + K-means: rank by mean row of the flatten matrix. (the bigger the better)"
   ]
  },
  {
   "cell_type": "code",
   "execution_count": 1,
   "metadata": {},
   "outputs": [],
   "source": [
    "from math import exp, sqrt, log\n",
    "import numpy as np\n",
    "import pandas as pd\n",
    "import seaborn as sns\n",
    "from sklearn import preprocessing\n",
    "\n",
    "from dictances import jensen_shannon\n",
    "import matplotlib.pyplot as plt\n",
    "from pydiffmap import diffusion_map as dm\n",
    "from pydiffmap.visualization import embedding_plot, data_plot\n",
    "\n",
    "from ref.Diffusion_Maps import diffusionMapping\n",
    "from ref.Shir import utils as shir_utils\n",
    "from utils import min_max_scaler, calc_mean_std, flatten, norm_by_dist_type, calculate_distance\n",
    "from main import execute_distance_func, calc_dist, export_heatmaps, k_medoids_features, return_best_features_by_kmeans\n",
    "from sklearn.ensemble import RandomForestClassifier\n",
    "from sklearn.multiclass import OneVsRestClassifier\n",
    "from sklearn.model_selection import train_test_split, cross_val_score, GroupKFold, KFold, StratifiedKFold\n",
    "from sklearn import metrics\n",
    "from sklearn.decomposition import PCA\n",
    "from sklearn.preprocessing import StandardScaler"
   ]
  },
  {
   "cell_type": "code",
   "execution_count": 2,
   "metadata": {},
   "outputs": [],
   "source": [
    "df = pd.read_csv('data/glass.csv')\n",
    "features = df.columns.drop('label')\n",
    "label_column = 'label'\n"
   ]
  },
  {
   "cell_type": "code",
   "execution_count": 3,
   "metadata": {},
   "outputs": [],
   "source": [
    "def predict(df, features, label_column, X_train, X_test, y_train, y_test):\n",
    "    kf = StratifiedKFold(n_splits=5, shuffle=True)\n",
    "    clf = RandomForestClassifier(random_state=1)\n",
    "    multi_target_forest = OneVsRestClassifier(clf, n_jobs=-1)\n",
    "    train_acc = []\n",
    "    \n",
    "    for train_index, test_index in kf.split(X_train, y_train):\n",
    "        model = multi_target_forest.fit(X_train.iloc[train_index], y_train.iloc[train_index])\n",
    "        train_preds = model.predict(X_train.iloc[test_index])\n",
    "        \n",
    "        train_acc.append(metrics.accuracy_score(y_train.iloc[test_index], train_preds))        \n",
    "    \n",
    "    model = multi_target_forest.fit(X_train, y_train)\n",
    "    preds = model.predict(X_test)\n",
    "    print(metrics.classification_report(y_test, preds, digits=3))\n",
    "    return train_acc"
   ]
  },
  {
   "cell_type": "markdown",
   "metadata": {},
   "source": [
    "## Regular classification"
   ]
  },
  {
   "cell_type": "code",
   "execution_count": 4,
   "metadata": {},
   "outputs": [
    {
     "name": "stdout",
     "output_type": "stream",
     "text": [
      "              precision    recall  f1-score   support\n",
      "\n",
      "           1      0.769     0.909     0.833        22\n",
      "           2      0.792     0.760     0.776        25\n",
      "           3      1.000     0.500     0.667         4\n",
      "           5      1.000     0.500     0.667         6\n",
      "           6      0.800     1.000     0.889         4\n",
      "           7      0.909     1.000     0.952        10\n",
      "\n",
      "    accuracy                          0.817        71\n",
      "   macro avg      0.878     0.778     0.797        71\n",
      "weighted avg      0.831     0.817     0.809        71\n",
      "\n",
      "train_avg_score=0.7413793103448276\n"
     ]
    }
   ],
   "source": [
    "X_train, X_test, y_train, y_test = train_test_split(df[features], df[label_column], test_size=0.33, random_state=42)\n",
    "train_acc = predict(df, features, label_column, X_train, X_test, y_train, y_test)\n",
    "train_avg_score = sum(train_acc)/len(train_acc)\n",
    "print(f'{train_avg_score=}')"
   ]
  },
  {
   "cell_type": "markdown",
   "metadata": {},
   "source": [
    "## Random columns"
   ]
  },
  {
   "cell_type": "code",
   "execution_count": 12,
   "metadata": {},
   "outputs": [
    {
     "name": "stdout",
     "output_type": "stream",
     "text": [
      "              precision    recall  f1-score   support\n",
      "\n",
      "           1      0.679     0.864     0.760        22\n",
      "           2      0.708     0.680     0.694        25\n",
      "           3      0.000     0.000     0.000         4\n",
      "           5      0.333     0.167     0.222         6\n",
      "           6      0.750     0.750     0.750         4\n",
      "           7      0.750     0.900     0.818        10\n",
      "\n",
      "    accuracy                          0.690        71\n",
      "   macro avg      0.537     0.560     0.541        71\n",
      "weighted avg      0.636     0.690     0.656        71\n",
      "\n",
      "train_avg_score=0.6369458128078818\n"
     ]
    },
    {
     "name": "stderr",
     "output_type": "stream",
     "text": [
      "C:\\Users\\OmerHedvat\\anaconda3\\lib\\site-packages\\sklearn\\metrics\\_classification.py:1221: UndefinedMetricWarning: Precision and F-score are ill-defined and being set to 0.0 in labels with no predicted samples. Use `zero_division` parameter to control this behavior.\n",
      "  _warn_prf(average, modifier, msg_start, len(result))\n"
     ]
    }
   ],
   "source": [
    "sampled_df = df[features].sample(n=4, axis='columns')\n",
    "new_features = sampled_df.columns\n",
    "sampled_df[label_column] = df[label_column]\n",
    "X_train, X_test, y_train, y_test = train_test_split(sampled_df[new_features], sampled_df[label_column], test_size=0.33, random_state=42)\n",
    "\n",
    "train_acc = predict(sampled_df, new_features, label_column, X_train, X_test, y_train, y_test)\n",
    "train_avg_score = sum(train_acc)/len(train_acc)\n",
    "print(f'{train_avg_score=}')"
   ]
  },
  {
   "cell_type": "markdown",
   "metadata": {},
   "source": [
    "## PCA Classification"
   ]
  },
  {
   "cell_type": "code",
   "execution_count": 6,
   "metadata": {},
   "outputs": [],
   "source": [
    "# Norm\n",
    "scaler = StandardScaler()\n",
    "X_train_norm = scaler.fit_transform(X_train)\n",
    "X_test_norm = scaler.transform(X_test)\n",
    "sample_data = X_train_norm\n",
    "\n",
    "#PCA\n",
    "pca = PCA(n_components=4)\n",
    "pca.fit(X_train_norm)\n",
    "X_train_pca = pca.transform(X_train_norm)\n",
    "X_test_pca = pca.transform(X_test_norm)\n",
    "y_train_arr = y_train.to_numpy()\n",
    "y_test_arr = y_test.to_numpy()\n",
    "\n"
   ]
  },
  {
   "cell_type": "code",
   "execution_count": 7,
   "metadata": {},
   "outputs": [],
   "source": [
    "def predict_np(df, features, label_column, X_train, X_test, y_train, y_test):\n",
    "    kf = StratifiedKFold(n_splits=5, shuffle=True)\n",
    "    clf = RandomForestClassifier(random_state=1)\n",
    "    multi_target_forest = OneVsRestClassifier(clf, n_jobs=-1)\n",
    "    train_acc = []\n",
    "    \n",
    "    for train_index, test_index in kf.split(X_train, y_train):\n",
    "        model = multi_target_forest.fit(X_train[train_index], y_train[train_index])\n",
    "        train_preds = model.predict(X_train[test_index])\n",
    "        \n",
    "        train_acc.append(metrics.accuracy_score(y_train[test_index], train_preds))        \n",
    "    \n",
    "    model = multi_target_forest.fit(X_train, y_train)\n",
    "    preds = model.predict(X_test)\n",
    "    print(metrics.classification_report(y_test, preds, digits=3))\n",
    "    return train_acc"
   ]
  },
  {
   "cell_type": "code",
   "execution_count": 8,
   "metadata": {},
   "outputs": [
    {
     "name": "stdout",
     "output_type": "stream",
     "text": [
      "              precision    recall  f1-score   support\n",
      "\n",
      "           1      0.652     0.682     0.667        22\n",
      "           2      0.621     0.720     0.667        25\n",
      "           3      0.500     0.250     0.333         4\n",
      "           5      0.750     0.500     0.600         6\n",
      "           6      0.667     0.500     0.571         4\n",
      "           7      0.900     0.900     0.900        10\n",
      "\n",
      "    accuracy                          0.676        71\n",
      "   macro avg      0.682     0.592     0.623        71\n",
      "weighted avg      0.677     0.676     0.670        71\n",
      "\n",
      "train_avg_score=0.6573891625615764\n"
     ]
    }
   ],
   "source": [
    "train_acc = predict_np(sampled_df, new_features, label_column, X_train_pca, X_test_pca, y_train_arr, y_test_arr)\n",
    "train_avg_score = sum(train_acc)/len(train_acc)\n",
    "print(f'{train_avg_score=}')"
   ]
  }
 ],
 "metadata": {
  "kernelspec": {
   "display_name": "Python 3",
   "language": "python",
   "name": "python3"
  },
  "language_info": {
   "codemirror_mode": {
    "name": "ipython",
    "version": 3
   },
   "file_extension": ".py",
   "mimetype": "text/x-python",
   "name": "python",
   "nbconvert_exporter": "python",
   "pygments_lexer": "ipython3",
   "version": "3.8.5"
  }
 },
 "nbformat": 4,
 "nbformat_minor": 4
}
