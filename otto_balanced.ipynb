{
 "cells": [
  {
   "cell_type": "code",
   "execution_count": 1,
   "id": "a5c936e0",
   "metadata": {},
   "outputs": [],
   "source": [
    "import numpy as np\n",
    "import os\n",
    "import pandas as pd\n",
    "from main import read_from_csv"
   ]
  },
  {
   "cell_type": "code",
   "execution_count": 2,
   "id": "bf35cbdc",
   "metadata": {},
   "outputs": [],
   "source": [
    "df = pd.read_csv('data/otto.csv')"
   ]
  },
  {
   "cell_type": "code",
   "execution_count": 6,
   "id": "b3a6ef3b",
   "metadata": {},
   "outputs": [
    {
     "data": {
      "text/plain": [
       "Class_2    16122\n",
       "Class_6    14135\n",
       "Class_8     8464\n",
       "Class_3     8004\n",
       "Class_9     4955\n",
       "Class_7     2839\n",
       "Class_5     2739\n",
       "Class_4     2691\n",
       "Class_1     1929\n",
       "Name: target, dtype: int64"
      ]
     },
     "execution_count": 6,
     "metadata": {},
     "output_type": "execute_result"
    }
   ],
   "source": [
    "df.target.value_counts()"
   ]
  },
  {
   "cell_type": "code",
   "execution_count": 8,
   "id": "fa1e50be",
   "metadata": {},
   "outputs": [],
   "source": [
    "rows = df.target.value_counts().min()"
   ]
  },
  {
   "cell_type": "code",
   "execution_count": 11,
   "id": "73efb723",
   "metadata": {},
   "outputs": [],
   "source": [
    "df_balanced = pd.concat([df.loc[df['target']=='Class_1'].head(rows), df.loc[df['target']=='Class_2'].head(rows), df.loc[df['target']=='Class_3'].head(rows), df.loc[df['target']=='Class_4'].head(rows), df.loc[df['target']=='Class_5'].head(rows), df.loc[df['target']=='Class_6'].head(rows), df.loc[df['target']=='Class_7'].head(rows), df.loc[df['target']=='Class_8'].head(rows), df.loc[df['target']=='Class_9'].head(rows)])"
   ]
  },
  {
   "cell_type": "code",
   "execution_count": 13,
   "id": "24a84c0f",
   "metadata": {},
   "outputs": [
    {
     "data": {
      "text/plain": [
       "Class_1    1929\n",
       "Class_2    1929\n",
       "Class_3    1929\n",
       "Class_4    1929\n",
       "Class_5    1929\n",
       "Class_6    1929\n",
       "Class_7    1929\n",
       "Class_8    1929\n",
       "Class_9    1929\n",
       "Name: target, dtype: int64"
      ]
     },
     "execution_count": 13,
     "metadata": {},
     "output_type": "execute_result"
    }
   ],
   "source": [
    "df_balanced.target.value_counts()"
   ]
  },
  {
   "cell_type": "code",
   "execution_count": 14,
   "id": "26c648ab",
   "metadata": {},
   "outputs": [
    {
     "data": {
      "text/plain": [
       "(17361, 94)"
      ]
     },
     "execution_count": 14,
     "metadata": {},
     "output_type": "execute_result"
    }
   ],
   "source": [
    "df_balanced.shape"
   ]
  },
  {
   "cell_type": "code",
   "execution_count": 19,
   "id": "e834e188",
   "metadata": {},
   "outputs": [],
   "source": [
    "df_balanced.to_csv('data/otto_balanced.csv')"
   ]
  },
  {
   "cell_type": "code",
   "execution_count": null,
   "id": "572a6921",
   "metadata": {},
   "outputs": [],
   "source": []
  }
 ],
 "metadata": {
  "kernelspec": {
   "display_name": "Python 3 (ipykernel)",
   "language": "python",
   "name": "python3"
  },
  "language_info": {
   "codemirror_mode": {
    "name": "ipython",
    "version": 3
   },
   "file_extension": ".py",
   "mimetype": "text/x-python",
   "name": "python",
   "nbconvert_exporter": "python",
   "pygments_lexer": "ipython3",
   "version": "3.8.6"
  }
 },
 "nbformat": 4,
 "nbformat_minor": 5
}
